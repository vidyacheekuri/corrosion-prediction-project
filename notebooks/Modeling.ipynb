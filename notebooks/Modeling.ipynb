{
  "nbformat": 4,
  "nbformat_minor": 0,
  "metadata": {
    "colab": {
      "provenance": [],
      "authorship_tag": "ABX9TyMlpBd4TjZzH8tzgiR1IxRo",
      "include_colab_link": true
    },
    "kernelspec": {
      "name": "python3",
      "display_name": "Python 3"
    },
    "language_info": {
      "name": "python"
    }
  },
  "cells": [
    {
      "cell_type": "markdown",
      "metadata": {
        "id": "view-in-github",
        "colab_type": "text"
      },
      "source": [
        "<a href=\"https://colab.research.google.com/github/vidyacheekuri/corrosion-prediction-project/blob/main/notebooks/Modeling.ipynb\" target=\"_parent\"><img src=\"https://colab.research.google.com/assets/colab-badge.svg\" alt=\"Open In Colab\"/></a>"
      ]
    },
    {
      "cell_type": "markdown",
      "source": [
        "**1: Imports**"
      ],
      "metadata": {
        "id": "GzVd0Y8poOos"
      }
    },
    {
      "cell_type": "code",
      "source": [
        "import pandas as pd\n",
        "import numpy as np\n",
        "import matplotlib.pyplot as plt\n",
        "import seaborn as sns\n",
        "\n",
        "from sklearn.model_selection import train_test_split\n",
        "from sklearn.metrics import r2_score, mean_squared_error, mean_absolute_error\n",
        "from sklearn.impute import SimpleImputer\n",
        "from xgboost import XGBRegressor"
      ],
      "metadata": {
        "id": "9xrMAVgFDVUd"
      },
      "execution_count": null,
      "outputs": []
    },
    {
      "cell_type": "markdown",
      "source": [
        "**2: Load Dataset**"
      ],
      "metadata": {
        "id": "W3dcoe7tFqz4"
      }
    },
    {
      "cell_type": "code",
      "source": [
        "# Load your dataset\n",
        "df = pd.read_csv(\"Corrosion_Dataset_processed.csv\")"
      ],
      "metadata": {
        "id": "x4t0lbSnoARJ"
      },
      "execution_count": null,
      "outputs": []
    },
    {
      "cell_type": "markdown",
      "source": [
        "**3: Feature Engineering**"
      ],
      "metadata": {
        "id": "yblbiHo0FXq5"
      }
    },
    {
      "cell_type": "code",
      "source": [
        "# Add interaction features\n",
        "df[\"Humidity_Temp\"] = df[\"Relative_Humidity_pct\"] * df[\"Temperature_K\"]\n",
        "df[\"Cement_Cover\"] = df[\"Water_Cement_Ratio\"] * df[\"Cover_Thickness_mm\"]"
      ],
      "metadata": {
        "id": "UYF1tz48sVwV"
      },
      "execution_count": null,
      "outputs": []
    },
    {
      "cell_type": "markdown",
      "source": [
        "**4: Virtual Sample Generation (VSG)**"
      ],
      "metadata": {
        "id": "aNLzALhpFvYz"
      }
    },
    {
      "cell_type": "code",
      "source": [
        "# Identify rare samples based on low corrosion rate\n",
        "threshold = df[\"Corrosion_Rate_uAcm2\"].quantile(0.25)\n",
        "rare = df[df[\"Corrosion_Rate_uAcm2\"] < threshold]\n",
        "numeric = [\n",
        "    \"Cover_Thickness_mm\", \"Reinforcement_Diameter_mm\", \"Water_Cement_Ratio\",\n",
        "    \"Temperature_K\", \"Relative_Humidity_pct\", \"Chloride_Ion_Content_kgm3\", \"Time_Years\"\n",
        "]\n",
        "\n",
        "synth = rare.sample(n=100, replace=True, random_state=42).copy()\n",
        "synth[numeric] += np.random.normal(0, 0.01, size=synth[numeric].shape)\n",
        "\n",
        "synth[\"Humidity_Temp\"] = synth[\"Relative_Humidity_pct\"] * synth[\"Temperature_K\"]\n",
        "synth[\"Cement_Cover\"] = synth[\"Water_Cement_Ratio\"] * synth[\"Cover_Thickness_mm\"]\n",
        "\n",
        "df = pd.concat([df, synth], ignore_index=True)"
      ],
      "metadata": {
        "id": "HanqVbXxFu-w"
      },
      "execution_count": null,
      "outputs": []
    },
    {
      "cell_type": "markdown",
      "source": [
        "**5: Train-Test Split**"
      ],
      "metadata": {
        "id": "o669M36rGAkj"
      }
    },
    {
      "cell_type": "code",
      "source": [
        "X = df.drop(columns=[\"Corrosion_Rate_uAcm2\"])\n",
        "y = df[\"Corrosion_Rate_uAcm2\"]\n",
        "X_train, X_test, y_train, y_test = train_test_split(X, y, test_size=0.2, random_state=42)\n",
        "\n",
        "imp = SimpleImputer(strategy=\"median\")\n",
        "X_train = pd.DataFrame(imp.fit_transform(X_train), columns=X.columns)\n",
        "X_test = pd.DataFrame(imp.transform(X_test), columns=X.columns)\n",
        "\n",
        "# === Reset y_train/y_test indices to match ===\n",
        "y_train = y_train.reset_index(drop=True)\n",
        "y_test = y_test.reset_index(drop=True)"
      ],
      "metadata": {
        "id": "cdv3w0gfF61W"
      },
      "execution_count": null,
      "outputs": []
    },
    {
      "cell_type": "markdown",
      "source": [
        "**6: Define and Train Models**"
      ],
      "metadata": {
        "id": "J7u57v0zGKPy"
      }
    },
    {
      "cell_type": "code",
      "source": [
        "# Segmented Modeling (Low vs High Target)\n",
        "low_mask = y_train < 0.15\n",
        "high_mask = y_train >= 0.15\n",
        "\n",
        "model_low = XGBRegressor(n_estimators=200, learning_rate=0.05, max_depth=4, random_state=42)\n",
        "model_high = XGBRegressor(n_estimators=200, learning_rate=0.05, max_depth=4, random_state=42)\n",
        "\n",
        "model_low.fit(X_train[low_mask], y_train[low_mask])\n",
        "model_high.fit(X_train[high_mask], y_train[high_mask])"
      ],
      "metadata": {
        "id": "XCGrgFIpG439",
        "colab": {
          "base_uri": "https://localhost:8080/",
          "height": 253
        },
        "outputId": "c57d803c-4fd8-4fb8-bd61-1a5ab79e408e"
      },
      "execution_count": null,
      "outputs": [
        {
          "output_type": "execute_result",
          "data": {
            "text/plain": [
              "XGBRegressor(base_score=None, booster=None, callbacks=None,\n",
              "             colsample_bylevel=None, colsample_bynode=None,\n",
              "             colsample_bytree=None, device=None, early_stopping_rounds=None,\n",
              "             enable_categorical=False, eval_metric=None, feature_types=None,\n",
              "             feature_weights=None, gamma=None, grow_policy=None,\n",
              "             importance_type=None, interaction_constraints=None,\n",
              "             learning_rate=0.05, max_bin=None, max_cat_threshold=None,\n",
              "             max_cat_to_onehot=None, max_delta_step=None, max_depth=4,\n",
              "             max_leaves=None, min_child_weight=None, missing=nan,\n",
              "             monotone_constraints=None, multi_strategy=None, n_estimators=200,\n",
              "             n_jobs=None, num_parallel_tree=None, ...)"
            ],
            "text/html": [
              "<style>#sk-container-id-1 {\n",
              "  /* Definition of color scheme common for light and dark mode */\n",
              "  --sklearn-color-text: #000;\n",
              "  --sklearn-color-text-muted: #666;\n",
              "  --sklearn-color-line: gray;\n",
              "  /* Definition of color scheme for unfitted estimators */\n",
              "  --sklearn-color-unfitted-level-0: #fff5e6;\n",
              "  --sklearn-color-unfitted-level-1: #f6e4d2;\n",
              "  --sklearn-color-unfitted-level-2: #ffe0b3;\n",
              "  --sklearn-color-unfitted-level-3: chocolate;\n",
              "  /* Definition of color scheme for fitted estimators */\n",
              "  --sklearn-color-fitted-level-0: #f0f8ff;\n",
              "  --sklearn-color-fitted-level-1: #d4ebff;\n",
              "  --sklearn-color-fitted-level-2: #b3dbfd;\n",
              "  --sklearn-color-fitted-level-3: cornflowerblue;\n",
              "\n",
              "  /* Specific color for light theme */\n",
              "  --sklearn-color-text-on-default-background: var(--sg-text-color, var(--theme-code-foreground, var(--jp-content-font-color1, black)));\n",
              "  --sklearn-color-background: var(--sg-background-color, var(--theme-background, var(--jp-layout-color0, white)));\n",
              "  --sklearn-color-border-box: var(--sg-text-color, var(--theme-code-foreground, var(--jp-content-font-color1, black)));\n",
              "  --sklearn-color-icon: #696969;\n",
              "\n",
              "  @media (prefers-color-scheme: dark) {\n",
              "    /* Redefinition of color scheme for dark theme */\n",
              "    --sklearn-color-text-on-default-background: var(--sg-text-color, var(--theme-code-foreground, var(--jp-content-font-color1, white)));\n",
              "    --sklearn-color-background: var(--sg-background-color, var(--theme-background, var(--jp-layout-color0, #111)));\n",
              "    --sklearn-color-border-box: var(--sg-text-color, var(--theme-code-foreground, var(--jp-content-font-color1, white)));\n",
              "    --sklearn-color-icon: #878787;\n",
              "  }\n",
              "}\n",
              "\n",
              "#sk-container-id-1 {\n",
              "  color: var(--sklearn-color-text);\n",
              "}\n",
              "\n",
              "#sk-container-id-1 pre {\n",
              "  padding: 0;\n",
              "}\n",
              "\n",
              "#sk-container-id-1 input.sk-hidden--visually {\n",
              "  border: 0;\n",
              "  clip: rect(1px 1px 1px 1px);\n",
              "  clip: rect(1px, 1px, 1px, 1px);\n",
              "  height: 1px;\n",
              "  margin: -1px;\n",
              "  overflow: hidden;\n",
              "  padding: 0;\n",
              "  position: absolute;\n",
              "  width: 1px;\n",
              "}\n",
              "\n",
              "#sk-container-id-1 div.sk-dashed-wrapped {\n",
              "  border: 1px dashed var(--sklearn-color-line);\n",
              "  margin: 0 0.4em 0.5em 0.4em;\n",
              "  box-sizing: border-box;\n",
              "  padding-bottom: 0.4em;\n",
              "  background-color: var(--sklearn-color-background);\n",
              "}\n",
              "\n",
              "#sk-container-id-1 div.sk-container {\n",
              "  /* jupyter's `normalize.less` sets `[hidden] { display: none; }`\n",
              "     but bootstrap.min.css set `[hidden] { display: none !important; }`\n",
              "     so we also need the `!important` here to be able to override the\n",
              "     default hidden behavior on the sphinx rendered scikit-learn.org.\n",
              "     See: https://github.com/scikit-learn/scikit-learn/issues/21755 */\n",
              "  display: inline-block !important;\n",
              "  position: relative;\n",
              "}\n",
              "\n",
              "#sk-container-id-1 div.sk-text-repr-fallback {\n",
              "  display: none;\n",
              "}\n",
              "\n",
              "div.sk-parallel-item,\n",
              "div.sk-serial,\n",
              "div.sk-item {\n",
              "  /* draw centered vertical line to link estimators */\n",
              "  background-image: linear-gradient(var(--sklearn-color-text-on-default-background), var(--sklearn-color-text-on-default-background));\n",
              "  background-size: 2px 100%;\n",
              "  background-repeat: no-repeat;\n",
              "  background-position: center center;\n",
              "}\n",
              "\n",
              "/* Parallel-specific style estimator block */\n",
              "\n",
              "#sk-container-id-1 div.sk-parallel-item::after {\n",
              "  content: \"\";\n",
              "  width: 100%;\n",
              "  border-bottom: 2px solid var(--sklearn-color-text-on-default-background);\n",
              "  flex-grow: 1;\n",
              "}\n",
              "\n",
              "#sk-container-id-1 div.sk-parallel {\n",
              "  display: flex;\n",
              "  align-items: stretch;\n",
              "  justify-content: center;\n",
              "  background-color: var(--sklearn-color-background);\n",
              "  position: relative;\n",
              "}\n",
              "\n",
              "#sk-container-id-1 div.sk-parallel-item {\n",
              "  display: flex;\n",
              "  flex-direction: column;\n",
              "}\n",
              "\n",
              "#sk-container-id-1 div.sk-parallel-item:first-child::after {\n",
              "  align-self: flex-end;\n",
              "  width: 50%;\n",
              "}\n",
              "\n",
              "#sk-container-id-1 div.sk-parallel-item:last-child::after {\n",
              "  align-self: flex-start;\n",
              "  width: 50%;\n",
              "}\n",
              "\n",
              "#sk-container-id-1 div.sk-parallel-item:only-child::after {\n",
              "  width: 0;\n",
              "}\n",
              "\n",
              "/* Serial-specific style estimator block */\n",
              "\n",
              "#sk-container-id-1 div.sk-serial {\n",
              "  display: flex;\n",
              "  flex-direction: column;\n",
              "  align-items: center;\n",
              "  background-color: var(--sklearn-color-background);\n",
              "  padding-right: 1em;\n",
              "  padding-left: 1em;\n",
              "}\n",
              "\n",
              "\n",
              "/* Toggleable style: style used for estimator/Pipeline/ColumnTransformer box that is\n",
              "clickable and can be expanded/collapsed.\n",
              "- Pipeline and ColumnTransformer use this feature and define the default style\n",
              "- Estimators will overwrite some part of the style using the `sk-estimator` class\n",
              "*/\n",
              "\n",
              "/* Pipeline and ColumnTransformer style (default) */\n",
              "\n",
              "#sk-container-id-1 div.sk-toggleable {\n",
              "  /* Default theme specific background. It is overwritten whether we have a\n",
              "  specific estimator or a Pipeline/ColumnTransformer */\n",
              "  background-color: var(--sklearn-color-background);\n",
              "}\n",
              "\n",
              "/* Toggleable label */\n",
              "#sk-container-id-1 label.sk-toggleable__label {\n",
              "  cursor: pointer;\n",
              "  display: flex;\n",
              "  width: 100%;\n",
              "  margin-bottom: 0;\n",
              "  padding: 0.5em;\n",
              "  box-sizing: border-box;\n",
              "  text-align: center;\n",
              "  align-items: start;\n",
              "  justify-content: space-between;\n",
              "  gap: 0.5em;\n",
              "}\n",
              "\n",
              "#sk-container-id-1 label.sk-toggleable__label .caption {\n",
              "  font-size: 0.6rem;\n",
              "  font-weight: lighter;\n",
              "  color: var(--sklearn-color-text-muted);\n",
              "}\n",
              "\n",
              "#sk-container-id-1 label.sk-toggleable__label-arrow:before {\n",
              "  /* Arrow on the left of the label */\n",
              "  content: \"▸\";\n",
              "  float: left;\n",
              "  margin-right: 0.25em;\n",
              "  color: var(--sklearn-color-icon);\n",
              "}\n",
              "\n",
              "#sk-container-id-1 label.sk-toggleable__label-arrow:hover:before {\n",
              "  color: var(--sklearn-color-text);\n",
              "}\n",
              "\n",
              "/* Toggleable content - dropdown */\n",
              "\n",
              "#sk-container-id-1 div.sk-toggleable__content {\n",
              "  max-height: 0;\n",
              "  max-width: 0;\n",
              "  overflow: hidden;\n",
              "  text-align: left;\n",
              "  /* unfitted */\n",
              "  background-color: var(--sklearn-color-unfitted-level-0);\n",
              "}\n",
              "\n",
              "#sk-container-id-1 div.sk-toggleable__content.fitted {\n",
              "  /* fitted */\n",
              "  background-color: var(--sklearn-color-fitted-level-0);\n",
              "}\n",
              "\n",
              "#sk-container-id-1 div.sk-toggleable__content pre {\n",
              "  margin: 0.2em;\n",
              "  border-radius: 0.25em;\n",
              "  color: var(--sklearn-color-text);\n",
              "  /* unfitted */\n",
              "  background-color: var(--sklearn-color-unfitted-level-0);\n",
              "}\n",
              "\n",
              "#sk-container-id-1 div.sk-toggleable__content.fitted pre {\n",
              "  /* unfitted */\n",
              "  background-color: var(--sklearn-color-fitted-level-0);\n",
              "}\n",
              "\n",
              "#sk-container-id-1 input.sk-toggleable__control:checked~div.sk-toggleable__content {\n",
              "  /* Expand drop-down */\n",
              "  max-height: 200px;\n",
              "  max-width: 100%;\n",
              "  overflow: auto;\n",
              "}\n",
              "\n",
              "#sk-container-id-1 input.sk-toggleable__control:checked~label.sk-toggleable__label-arrow:before {\n",
              "  content: \"▾\";\n",
              "}\n",
              "\n",
              "/* Pipeline/ColumnTransformer-specific style */\n",
              "\n",
              "#sk-container-id-1 div.sk-label input.sk-toggleable__control:checked~label.sk-toggleable__label {\n",
              "  color: var(--sklearn-color-text);\n",
              "  background-color: var(--sklearn-color-unfitted-level-2);\n",
              "}\n",
              "\n",
              "#sk-container-id-1 div.sk-label.fitted input.sk-toggleable__control:checked~label.sk-toggleable__label {\n",
              "  background-color: var(--sklearn-color-fitted-level-2);\n",
              "}\n",
              "\n",
              "/* Estimator-specific style */\n",
              "\n",
              "/* Colorize estimator box */\n",
              "#sk-container-id-1 div.sk-estimator input.sk-toggleable__control:checked~label.sk-toggleable__label {\n",
              "  /* unfitted */\n",
              "  background-color: var(--sklearn-color-unfitted-level-2);\n",
              "}\n",
              "\n",
              "#sk-container-id-1 div.sk-estimator.fitted input.sk-toggleable__control:checked~label.sk-toggleable__label {\n",
              "  /* fitted */\n",
              "  background-color: var(--sklearn-color-fitted-level-2);\n",
              "}\n",
              "\n",
              "#sk-container-id-1 div.sk-label label.sk-toggleable__label,\n",
              "#sk-container-id-1 div.sk-label label {\n",
              "  /* The background is the default theme color */\n",
              "  color: var(--sklearn-color-text-on-default-background);\n",
              "}\n",
              "\n",
              "/* On hover, darken the color of the background */\n",
              "#sk-container-id-1 div.sk-label:hover label.sk-toggleable__label {\n",
              "  color: var(--sklearn-color-text);\n",
              "  background-color: var(--sklearn-color-unfitted-level-2);\n",
              "}\n",
              "\n",
              "/* Label box, darken color on hover, fitted */\n",
              "#sk-container-id-1 div.sk-label.fitted:hover label.sk-toggleable__label.fitted {\n",
              "  color: var(--sklearn-color-text);\n",
              "  background-color: var(--sklearn-color-fitted-level-2);\n",
              "}\n",
              "\n",
              "/* Estimator label */\n",
              "\n",
              "#sk-container-id-1 div.sk-label label {\n",
              "  font-family: monospace;\n",
              "  font-weight: bold;\n",
              "  display: inline-block;\n",
              "  line-height: 1.2em;\n",
              "}\n",
              "\n",
              "#sk-container-id-1 div.sk-label-container {\n",
              "  text-align: center;\n",
              "}\n",
              "\n",
              "/* Estimator-specific */\n",
              "#sk-container-id-1 div.sk-estimator {\n",
              "  font-family: monospace;\n",
              "  border: 1px dotted var(--sklearn-color-border-box);\n",
              "  border-radius: 0.25em;\n",
              "  box-sizing: border-box;\n",
              "  margin-bottom: 0.5em;\n",
              "  /* unfitted */\n",
              "  background-color: var(--sklearn-color-unfitted-level-0);\n",
              "}\n",
              "\n",
              "#sk-container-id-1 div.sk-estimator.fitted {\n",
              "  /* fitted */\n",
              "  background-color: var(--sklearn-color-fitted-level-0);\n",
              "}\n",
              "\n",
              "/* on hover */\n",
              "#sk-container-id-1 div.sk-estimator:hover {\n",
              "  /* unfitted */\n",
              "  background-color: var(--sklearn-color-unfitted-level-2);\n",
              "}\n",
              "\n",
              "#sk-container-id-1 div.sk-estimator.fitted:hover {\n",
              "  /* fitted */\n",
              "  background-color: var(--sklearn-color-fitted-level-2);\n",
              "}\n",
              "\n",
              "/* Specification for estimator info (e.g. \"i\" and \"?\") */\n",
              "\n",
              "/* Common style for \"i\" and \"?\" */\n",
              "\n",
              ".sk-estimator-doc-link,\n",
              "a:link.sk-estimator-doc-link,\n",
              "a:visited.sk-estimator-doc-link {\n",
              "  float: right;\n",
              "  font-size: smaller;\n",
              "  line-height: 1em;\n",
              "  font-family: monospace;\n",
              "  background-color: var(--sklearn-color-background);\n",
              "  border-radius: 1em;\n",
              "  height: 1em;\n",
              "  width: 1em;\n",
              "  text-decoration: none !important;\n",
              "  margin-left: 0.5em;\n",
              "  text-align: center;\n",
              "  /* unfitted */\n",
              "  border: var(--sklearn-color-unfitted-level-1) 1pt solid;\n",
              "  color: var(--sklearn-color-unfitted-level-1);\n",
              "}\n",
              "\n",
              ".sk-estimator-doc-link.fitted,\n",
              "a:link.sk-estimator-doc-link.fitted,\n",
              "a:visited.sk-estimator-doc-link.fitted {\n",
              "  /* fitted */\n",
              "  border: var(--sklearn-color-fitted-level-1) 1pt solid;\n",
              "  color: var(--sklearn-color-fitted-level-1);\n",
              "}\n",
              "\n",
              "/* On hover */\n",
              "div.sk-estimator:hover .sk-estimator-doc-link:hover,\n",
              ".sk-estimator-doc-link:hover,\n",
              "div.sk-label-container:hover .sk-estimator-doc-link:hover,\n",
              ".sk-estimator-doc-link:hover {\n",
              "  /* unfitted */\n",
              "  background-color: var(--sklearn-color-unfitted-level-3);\n",
              "  color: var(--sklearn-color-background);\n",
              "  text-decoration: none;\n",
              "}\n",
              "\n",
              "div.sk-estimator.fitted:hover .sk-estimator-doc-link.fitted:hover,\n",
              ".sk-estimator-doc-link.fitted:hover,\n",
              "div.sk-label-container:hover .sk-estimator-doc-link.fitted:hover,\n",
              ".sk-estimator-doc-link.fitted:hover {\n",
              "  /* fitted */\n",
              "  background-color: var(--sklearn-color-fitted-level-3);\n",
              "  color: var(--sklearn-color-background);\n",
              "  text-decoration: none;\n",
              "}\n",
              "\n",
              "/* Span, style for the box shown on hovering the info icon */\n",
              ".sk-estimator-doc-link span {\n",
              "  display: none;\n",
              "  z-index: 9999;\n",
              "  position: relative;\n",
              "  font-weight: normal;\n",
              "  right: .2ex;\n",
              "  padding: .5ex;\n",
              "  margin: .5ex;\n",
              "  width: min-content;\n",
              "  min-width: 20ex;\n",
              "  max-width: 50ex;\n",
              "  color: var(--sklearn-color-text);\n",
              "  box-shadow: 2pt 2pt 4pt #999;\n",
              "  /* unfitted */\n",
              "  background: var(--sklearn-color-unfitted-level-0);\n",
              "  border: .5pt solid var(--sklearn-color-unfitted-level-3);\n",
              "}\n",
              "\n",
              ".sk-estimator-doc-link.fitted span {\n",
              "  /* fitted */\n",
              "  background: var(--sklearn-color-fitted-level-0);\n",
              "  border: var(--sklearn-color-fitted-level-3);\n",
              "}\n",
              "\n",
              ".sk-estimator-doc-link:hover span {\n",
              "  display: block;\n",
              "}\n",
              "\n",
              "/* \"?\"-specific style due to the `<a>` HTML tag */\n",
              "\n",
              "#sk-container-id-1 a.estimator_doc_link {\n",
              "  float: right;\n",
              "  font-size: 1rem;\n",
              "  line-height: 1em;\n",
              "  font-family: monospace;\n",
              "  background-color: var(--sklearn-color-background);\n",
              "  border-radius: 1rem;\n",
              "  height: 1rem;\n",
              "  width: 1rem;\n",
              "  text-decoration: none;\n",
              "  /* unfitted */\n",
              "  color: var(--sklearn-color-unfitted-level-1);\n",
              "  border: var(--sklearn-color-unfitted-level-1) 1pt solid;\n",
              "}\n",
              "\n",
              "#sk-container-id-1 a.estimator_doc_link.fitted {\n",
              "  /* fitted */\n",
              "  border: var(--sklearn-color-fitted-level-1) 1pt solid;\n",
              "  color: var(--sklearn-color-fitted-level-1);\n",
              "}\n",
              "\n",
              "/* On hover */\n",
              "#sk-container-id-1 a.estimator_doc_link:hover {\n",
              "  /* unfitted */\n",
              "  background-color: var(--sklearn-color-unfitted-level-3);\n",
              "  color: var(--sklearn-color-background);\n",
              "  text-decoration: none;\n",
              "}\n",
              "\n",
              "#sk-container-id-1 a.estimator_doc_link.fitted:hover {\n",
              "  /* fitted */\n",
              "  background-color: var(--sklearn-color-fitted-level-3);\n",
              "}\n",
              "</style><div id=\"sk-container-id-1\" class=\"sk-top-container\"><div class=\"sk-text-repr-fallback\"><pre>XGBRegressor(base_score=None, booster=None, callbacks=None,\n",
              "             colsample_bylevel=None, colsample_bynode=None,\n",
              "             colsample_bytree=None, device=None, early_stopping_rounds=None,\n",
              "             enable_categorical=False, eval_metric=None, feature_types=None,\n",
              "             feature_weights=None, gamma=None, grow_policy=None,\n",
              "             importance_type=None, interaction_constraints=None,\n",
              "             learning_rate=0.05, max_bin=None, max_cat_threshold=None,\n",
              "             max_cat_to_onehot=None, max_delta_step=None, max_depth=4,\n",
              "             max_leaves=None, min_child_weight=None, missing=nan,\n",
              "             monotone_constraints=None, multi_strategy=None, n_estimators=200,\n",
              "             n_jobs=None, num_parallel_tree=None, ...)</pre><b>In a Jupyter environment, please rerun this cell to show the HTML representation or trust the notebook. <br />On GitHub, the HTML representation is unable to render, please try loading this page with nbviewer.org.</b></div><div class=\"sk-container\" hidden><div class=\"sk-item\"><div class=\"sk-estimator fitted sk-toggleable\"><input class=\"sk-toggleable__control sk-hidden--visually\" id=\"sk-estimator-id-1\" type=\"checkbox\" checked><label for=\"sk-estimator-id-1\" class=\"sk-toggleable__label fitted sk-toggleable__label-arrow\"><div><div>XGBRegressor</div></div><div><a class=\"sk-estimator-doc-link fitted\" rel=\"noreferrer\" target=\"_blank\" href=\"https://xgboost.readthedocs.io/en/release_3.0.0/python/python_api.html#xgboost.XGBRegressor\">?<span>Documentation for XGBRegressor</span></a><span class=\"sk-estimator-doc-link fitted\">i<span>Fitted</span></span></div></label><div class=\"sk-toggleable__content fitted\"><pre>XGBRegressor(base_score=None, booster=None, callbacks=None,\n",
              "             colsample_bylevel=None, colsample_bynode=None,\n",
              "             colsample_bytree=None, device=None, early_stopping_rounds=None,\n",
              "             enable_categorical=False, eval_metric=None, feature_types=None,\n",
              "             feature_weights=None, gamma=None, grow_policy=None,\n",
              "             importance_type=None, interaction_constraints=None,\n",
              "             learning_rate=0.05, max_bin=None, max_cat_threshold=None,\n",
              "             max_cat_to_onehot=None, max_delta_step=None, max_depth=4,\n",
              "             max_leaves=None, min_child_weight=None, missing=nan,\n",
              "             monotone_constraints=None, multi_strategy=None, n_estimators=200,\n",
              "             n_jobs=None, num_parallel_tree=None, ...)</pre></div> </div></div></div></div>"
            ]
          },
          "metadata": {},
          "execution_count": 6
        }
      ]
    },
    {
      "cell_type": "markdown",
      "source": [
        "**7: Predictions & Evaluation**"
      ],
      "metadata": {
        "id": "o7nT0KWAHW9X"
      }
    },
    {
      "cell_type": "code",
      "source": [
        "y_pred = []\n",
        "for i in range(len(X_test)):\n",
        "    x = X_test.iloc[i:i+1]\n",
        "    if y_test.iloc[i] < 0.15:\n",
        "        pred = model_low.predict(x)[0]\n",
        "    else:\n",
        "        pred = model_high.predict(x)[0]\n",
        "    y_pred.append(pred)\n",
        "y_pred = np.array(y_pred)\n",
        "\n",
        "r2 = r2_score(y_test, y_pred)\n",
        "rmse = mean_squared_error(y_test, y_pred)\n",
        "mae = mean_absolute_error(y_test, y_pred)\n",
        "error_pct = np.abs((y_test - y_pred) / y_test) * 100\n",
        "within_10 = (error_pct < 10).mean() * 100\n",
        "within_5 = (error_pct < 5).mean() * 100\n",
        "\n",
        "print(\"🔀 Segmented XGBoost Model\")\n",
        "print(f\"✅ R² Score      : {r2:.3f}\")\n",
        "print(f\"📉 RMSE          : {rmse:.4f}\")\n",
        "print(f\"📉 MAE           : {mae:.4f}\")\n",
        "print(f\"🎯 ≤10% Error    : {within_10:.2f}%\")\n",
        "print(f\"🎯 ≤5% Error     : {within_5:.2f}%\")"
      ],
      "metadata": {
        "colab": {
          "base_uri": "https://localhost:8080/"
        },
        "id": "jY4hgGcPHYju",
        "outputId": "c418c3ef-541a-493a-de02-225edd0d48ca"
      },
      "execution_count": null,
      "outputs": [
        {
          "output_type": "stream",
          "name": "stdout",
          "text": [
            "🔀 Segmented XGBoost Model\n",
            "✅ R² Score      : 0.902\n",
            "📉 RMSE          : 0.0013\n",
            "📉 MAE           : 0.0227\n",
            "🎯 ≤10% Error    : 57.14%\n",
            "🎯 ≤5% Error     : 34.69%\n"
          ]
        }
      ]
    },
    {
      "cell_type": "markdown",
      "source": [
        "**8: Plot Predictions**"
      ],
      "metadata": {
        "id": "59Bb8lLAHtwO"
      }
    },
    {
      "cell_type": "code",
      "source": [
        "import matplotlib.pyplot as plt\n",
        "import seaborn as sns\n",
        "\n",
        "# Scatter plot of predicted vs. actual\n",
        "plt.figure(figsize=(6, 4))\n",
        "sns.scatterplot(x=y_test, y=y_pred, color=\"blue\", alpha=0.6, edgecolor=\"k\")\n",
        "\n",
        "# 45-degree line for perfect predictions\n",
        "plt.plot([y_test.min(), y_test.max()], [y_test.min(), y_test.max()], 'r--', lw=2)\n",
        "\n",
        "plt.xlabel(\"Actual Corrosion Rate (μA/cm²)\")\n",
        "plt.ylabel(\"Predicted Corrosion Rate (μA/cm²)\")\n",
        "plt.title(\"Actual vs. Predicted Corrosion Rate (XGBoost)\")\n",
        "plt.grid(True)\n",
        "plt.tight_layout()\n",
        "plt.show()"
      ],
      "metadata": {
        "colab": {
          "base_uri": "https://localhost:8080/",
          "height": 407
        },
        "id": "VBCHQuIZHtdD",
        "outputId": "df9d514a-4731-4131-c16e-017c2099fb2e"
      },
      "execution_count": null,
      "outputs": [
        {
          "output_type": "display_data",
          "data": {
            "text/plain": [
              "<Figure size 600x400 with 1 Axes>"
            ],
            "image/png": "[encoded data removed]"
          },
          "metadata": {}
        }
      ]
    },
    {
      "cell_type": "code",
      "source": [
        "# === Error Analysis ===\n",
        "\n",
        "import seaborn as sns\n",
        "\n",
        "# Create a DataFrame with actual and predicted values\n",
        "error_df = pd.DataFrame({\n",
        "    \"Actual\": y_test,\n",
        "    \"Predicted\": y_pred\n",
        "})\n",
        "error_df[\"Absolute_Error\"] = np.abs(error_df[\"Actual\"] - error_df[\"Predicted\"])\n",
        "error_df[\"Percent_Error\"] = 100 * error_df[\"Absolute_Error\"] / error_df[\"Actual\"]\n",
        "\n",
        "# === 1. Distribution of Percent Error ===\n",
        "plt.figure(figsize=(7, 4))\n",
        "sns.histplot(error_df[\"Percent_Error\"], bins=20, kde=True, color=\"purple\")\n",
        "plt.title(\"Distribution of Percentage Error\")\n",
        "plt.xlabel(\"Percent Error (%)\")\n",
        "plt.ylabel(\"Frequency\")\n",
        "plt.grid(True)\n",
        "plt.tight_layout()\n",
        "plt.show()\n",
        "\n",
        "# === 2. Error vs. Actual Corrosion Rate ===\n",
        "plt.figure(figsize=(7, 4))\n",
        "sns.scatterplot(x=error_df[\"Actual\"], y=error_df[\"Percent_Error\"], alpha=0.6)\n",
        "plt.axhline(y=10, color='red', linestyle='--', label=\"10% Error Threshold\")\n",
        "plt.xlabel(\"Actual Corrosion Rate (µA/cm²)\")\n",
        "plt.ylabel(\"Percent Error (%)\")\n",
        "plt.title(\"Percent Error vs. Actual Corrosion Rate\")\n",
        "plt.legend()\n",
        "plt.tight_layout()\n",
        "plt.show()\n",
        "\n",
        "# === 3. Error Summary ===\n",
        "within_5 = np.mean(error_df[\"Percent_Error\"] <= 5) * 100\n",
        "within_10 = np.mean(error_df[\"Percent_Error\"] <= 10) * 100\n",
        "within_30 = np.mean(error_df[\"Percent_Error\"] <= 30) * 100\n",
        "mean_error = error_df[\"Percent_Error\"].mean()\n",
        "median_error = error_df[\"Percent_Error\"].median()\n",
        "\n",
        "print(f\"Mean Percent Error    : {mean_error:.2f}%\")\n",
        "print(f\"Median Percent Error  : {median_error:.2f}%\")\n",
        "print(f\"Samples ≤ 5% Error     : {within_5:.2f}%\")\n",
        "print(f\"Samples ≤ 10% Error    : {within_10:.2f}%\")\n",
        "print(f\"Samples ≤ 30% Error    : {within_30:.2f}%\")"
      ],
      "metadata": {
        "colab": {
          "base_uri": "https://localhost:8080/",
          "height": 884
        },
        "id": "xiiBwFWoXW7K",
        "outputId": "6defe74c-272b-4f76-df2e-95c8382eceb9"
      },
      "execution_count": null,
      "outputs": [
        {
          "output_type": "display_data",
          "data": {
            "text/plain": [
              "<Figure size 700x400 with 1 Axes>"
            ],
            "image/png": "[encoded data removed]"
          },
          "metadata": {}
        },
        {
          "output_type": "display_data",
          "data": {
            "text/plain": [
              "<Figure size 700x400 with 1 Axes>"
            ],
            "image/png": "[encoded data removed]"
          },
          "metadata": {}
        },
        {
          "output_type": "stream",
          "name": "stdout",
          "text": [
            "Mean Percent Error    : 13.39%\n",
            "Median Percent Error  : 8.96%\n",
            "Samples ≤ 5% Error     : 34.69%\n",
            "Samples ≤ 10% Error    : 57.14%\n",
            "Samples ≤ 30% Error    : 89.80%\n"
          ]
        }
      ]
    },
    {
      "cell_type": "code",
      "source": [
        "# --- User Input & Prediction Script ---\n",
        "\n",
        "import pandas as pd\n",
        "\n",
        "# 1. Prompt user for each feature\n",
        "cover_mm        = float(input(\"Enter cover thickness (mm): \"))\n",
        "diameter_mm     = float(input(\"Enter reinforcement diameter (mm): \"))\n",
        "wcr             = float(input(\"Enter water–cement ratio (e.g. 0.40): \"))\n",
        "temp_K          = float(input(\"Enter temperature (K): \"))\n",
        "rh_pct          = float(input(\"Enter relative humidity (%): \"))\n",
        "chloride_kgm3   = float(input(\"Enter chloride ion content (kg/m³): \"))\n",
        "time_years      = float(input(\"Enter exposure time (years): \"))\n",
        "\n",
        "# 2. Build a single‐row DataFrame\n",
        "df_input = pd.DataFrame([{\n",
        "    \"Cover_Thickness_mm\":        cover_mm,\n",
        "    \"Reinforcement_Diameter_mm\": diameter_mm,\n",
        "    \"Water_Cement_Ratio\":        wcr,\n",
        "    \"Temperature_K\":             temp_K,\n",
        "    \"Relative_Humidity_pct\":     rh_pct,\n",
        "    \"Chloride_Ion_Content_kgm3\": chloride_kgm3,\n",
        "    \"Time_Years\":                time_years\n",
        "}])\n",
        "\n",
        "# 3. Recompute interaction features\n",
        "df_input[\"Cement_Cover\"] = df_input[\"Cover_Thickness_mm\"] * df_input[\"Water_Cement_Ratio\"]\n",
        "df_input[\"Humidity_Temp\"]   = df_input[\"Relative_Humidity_pct\"] * df_input[\"Temperature_K\"]\n",
        "\n",
        "# 4. Impute (using your trained imputer) and select model inputs\n",
        "X_input = pd.DataFrame(\n",
        "    imp.transform(df_input[X_train.columns]),  # imp and X_train.columns must be defined from your pipeline\n",
        "    columns=X_train.columns\n",
        ")\n",
        "\n",
        "# 5. Make predictions with both segmented models\n",
        "pred_low  = model_low .predict(X_input)[0]\n",
        "pred_high = model_high.predict(X_input)[0]\n",
        "\n",
        "# 6. Display results\n",
        "print(f\"\\nPredicted corrosion rate if in LOW-rate segment:  {pred_low:.3f} µA/cm²\")\n",
        "print(f\"Predicted corrosion rate if in HIGH-rate segment: {pred_high:.3f} µA/cm²\")"
      ],
      "metadata": {
        "id": "X57ymwXb0Lyt",
        "colab": {
          "base_uri": "https://localhost:8080/"
        },
        "outputId": "527b59b3-ecaf-46bc-9bdd-7a3155dfbd66"
      },
      "execution_count": null,
      "outputs": [
        {
          "output_type": "stream",
          "name": "stdout",
          "text": [
            "Enter cover thickness (mm): 43\n",
            "Enter reinforcement diameter (mm): 26\n",
            "Enter water–cement ratio (e.g. 0.40): 0.35\n",
            "Enter temperature (K): 300\n",
            "Enter relative humidity (%): 65\n",
            "Enter chloride ion content (kg/m³): 6\n",
            "Enter exposure time (years): 12\n",
            "\n",
            "Predicted corrosion rate if in LOW-rate segment:  0.084 µA/cm²\n",
            "Predicted corrosion rate if in HIGH-rate segment: 0.318 µA/cm²\n"
          ]
        }
      ]
    },
    {
      "cell_type": "code",
      "source": [
        "def predict_segmented(X_new, threshold=0.15):\n",
        "\n",
        "    # 1. Get both segment predictions\n",
        "    pred_low  = model_low .predict(X_new)\n",
        "    pred_high = model_high.predict(X_new)\n",
        "\n",
        "    # 2. Choose low-model prediction whenever it’s below (or equal) to the threshold;\n",
        "    #    otherwise choose high-model prediction.\n",
        "    final_pred = np.where(pred_low <= threshold, pred_low, pred_high)\n",
        "\n",
        "    return final_pred\n",
        "\n",
        "single_pred = predict_segmented(X_input, threshold=0.15)\n",
        "print(f\"Final segmented prediction: {single_pred[0]:.3f} µA/cm²\")"
      ],
      "metadata": {
        "colab": {
          "base_uri": "https://localhost:8080/"
        },
        "id": "o_339WgAfXa4",
        "outputId": "0777049a-0aac-41a6-b125-044b7eb4db11"
      },
      "execution_count": null,
      "outputs": [
        {
          "output_type": "stream",
          "name": "stdout",
          "text": [
            "Final segmented prediction: 0.084 µA/cm²\n"
          ]
        }
      ]
    }
  ]
}